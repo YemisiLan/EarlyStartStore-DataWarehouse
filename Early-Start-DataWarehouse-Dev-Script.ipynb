{
    "metadata": {
        "kernelspec": {
            "name": "SQL",
            "display_name": "SQL",
            "language": "sql"
        },
        "language_info": {
            "name": "sql",
            "version": ""
        }
    },
    "nbformat_minor": 2,
    "nbformat": 4,
    "cells": [
        {
            "cell_type": "markdown",
            "source": [
                "    Author:  Yemisi Adeoluwa\r\n",
                "    Script Title: Create OLAP (Datawarehouse, Star Schema) Dimensional and Fact tables for EarlyStartStoreLtdDW\r\n",
                "    Date: 27/08/2018"
            ],
            "metadata": {
                "azdata_cell_guid": "859501cf-0775-4310-97b6-42a963a2c654"
            }
        },
        {
            "cell_type": "markdown",
            "source": [
                "   A template which can be used to Modify the tables created."
            ],
            "metadata": {
                "azdata_cell_guid": "bb22f313-baef-49b9-befe-42fcb1efae61"
            }
        },
        {
            "cell_type": "code",
            "source": [
                "ALTER TABLE dbo.DimProducts\r\n",
                "ALTER COLUMN  ExpiryDate DateTime NULL\r\n",
                "GO\r\n",
                "\r\n",
                "\r\n",
                "ALTER TABLE dbo.DimEmployee\r\n",
                "ALTER COLUMN Telephone nvarchar(50) NULL\r\n",
                "GO\r\n",
                "\r\n",
                "ALTER TABLE dbo.FactSalesQuota\r\n",
                "ALTER COLUMN SalesAmountQuarter MONEY NULL\r\n",
                "GO"
            ],
            "metadata": {
                "azdata_cell_guid": "dbb65e71-120c-4fe5-9d8c-a326947fa2e0",
                "tags": []
            },
            "outputs": [],
            "execution_count": null
        },
        {
            "cell_type": "markdown",
            "source": [
                "      Table Name: DimProducts\r\n",
                "      Description: This table contains relevant information about each product, including the description of the product, price of the product and the date the product would expire.\r\n",
                "      Comment: The primary key is in a NON Clustered Index"
            ],
            "metadata": {
                "azdata_cell_guid": "a27d0cf1-16b0-4cf1-8e36-d036afca3a23"
            }
        },
        {
            "cell_type": "code",
            "source": [
                "CREATE TABLE dbo.DimProducts\r\n",
                "(ProductKey Int IDENTITY NOT NULL PRIMARY KEY NONCLUSTERED,\r\n",
                "[Description] nvarchar(90) NOT NULL,\r\n",
                "ManifacturerName nvarchar(50) NULL,\r\n",
                "Barcode Int NULL,\r\n",
                "Price money NOT NULL,\r\n",
                "Colour NVARCHAR(20) NULL,\r\n",
                "StartDate DateTime NOT NULL,\r\n",
                "ExpiryDate DateTime NULL)\r\n",
                "GO"
            ],
            "metadata": {
                "azdata_cell_guid": "ee86147a-1a3a-4211-9750-244a31e1332a"
            },
            "outputs": [],
            "execution_count": null
        },
        {
            "cell_type": "markdown",
            "source": [
                "      Table Name: DimCustomer\r\n",
                "      Description: Contains each  Customer's Personal details. \r\n",
                "      Comment: The primary key is in a NON Clustered Index"
            ],
            "metadata": {
                "azdata_cell_guid": "587f1761-cd63-4ca3-9461-e58d8dd84e8e"
            }
        },
        {
            "cell_type": "code",
            "source": [
                "CREATE TABLE dbo.DimCustomer\r\n",
                "(CustomerKey int IDENTITY NOT NULL PRIMARY KEY NONCLUSTERED,\r\n",
                "FirstName nvarchar(30) NOT NULL,\r\n",
                "LastName nvarchar(30) nOT NULL,\r\n",
                "Address nvarchar(50) NOT NULL,\r\n",
                "Postcode varchar(10) NOT NULL,\r\n",
                "CityID nvarchar(20) NOT NULL,\r\n",
                "Telephone nvarchar(30) NULL,\r\n",
                "Mobile nvarchar(30) NULL,\r\n",
                "Email nvarchar(30) NULL)\r\n",
                "GO\r\n",
                ""
            ],
            "metadata": {
                "azdata_cell_guid": "e82c0c34-456f-479a-8de9-5f8c2756019f"
            },
            "outputs": [],
            "execution_count": null
        },
        {
            "cell_type": "markdown",
            "source": [
                "      Table Name: DimEmployee\r\n",
                "      Description: This table contains all the Company's Employee's Details\r\n",
                "  "
            ],
            "metadata": {
                "azdata_cell_guid": "c565cddb-0c67-45f8-8296-ac735b72edc6"
            }
        },
        {
            "cell_type": "code",
            "source": [
                "CREATE TABLE dbo.DimEmployee\r\n",
                "(EmployeeKey Int IDENTITY NOT NULL PRIMARY KEY NONCLUSTERED,\r\n",
                "FirstName nvarchar(30) NOT NULL,\r\n",
                "LastName nvarchar(30) NOT NULL,\r\n",
                "JobTitle nvarchar(30) NOT NULL,\r\n",
                "Street nvarchar(50) NOT NULL,\r\n",
                "Postcode varchar(10) NOT NULL,\r\n",
                "City nvarchar(20) NOT NULL,\r\n",
                "StartDate DATETIME NULL,\r\n",
                "EndDate DATETIME NOT NULL,\r\n",
                "Telephone nvarchar(50) NULL,\r\n",
                "Email nvarchar(30) NULL)\r\n",
                "GO\r\n",
                ""
            ],
            "metadata": {
                "azdata_cell_guid": "d83b6e74-ac50-4eb4-9e72-e50b486c1ce6"
            },
            "outputs": [],
            "execution_count": null
        },
        {
            "cell_type": "markdown",
            "source": [
                "      Table Name: DimDate\r\n",
                "      Description: Date reference table"
            ],
            "metadata": {
                "azdata_cell_guid": "b38ccb06-327e-4e11-ae96-b512d6a6c919"
            }
        },
        {
            "cell_type": "markdown",
            "source": [
                "             "
            ],
            "metadata": {
                "azdata_cell_guid": "652b434b-ba99-464c-b3af-4776a64e72b0"
            }
        },
        {
            "cell_type": "code",
            "source": [
                "CREATE TABLE dbo.DimDate\r\n",
                "(DateKey Int NOT NULL PRIMARY KEY NONCLUSTERED,\r\n",
                " CalendarYear Int NOT NULL,\r\n",
                " CalendarQuarter Int NOT NULL,\r\n",
                " MonthOfYear Int NOT NULL,\r\n",
                " [MonthName] nvarchar(25) NOT NULL,\r\n",
                " [DayOfMonth] Int NOT NULL,\r\n",
                " [DayOfWeek] Int NOT NULL,\r\n",
                " [DayName] nvarchar(15) NOT NULL,\r\n",
                " FiscalYear int NOT NULL,\r\n",
                " FiscalQuarter int NOT NULL)\r\n",
                " GO"
            ],
            "metadata": {
                "azdata_cell_guid": "c4d290e1-c372-466f-a3de-463b5207df7c"
            },
            "outputs": [],
            "execution_count": null
        },
        {
            "cell_type": "markdown",
            "source": [
                "      Table Name:  DimCity\r\n",
                "      Description: City table to identify the city the customer made thier purchase"
            ],
            "metadata": {
                "azdata_cell_guid": "023b796b-f690-4405-aeb6-9521a35d2f6c"
            }
        },
        {
            "cell_type": "code",
            "source": [
                "CREATE TABLE dbo.DimCity\r\n",
                " (CityKey Int IDENTITY NOT NULL PRIMARY KEY NONCLUSTERED,\r\n",
                " City nvarchar(20) NOT NULL,\r\n",
                " Country nvarchar(20) NOT NULL)\r\n",
                " GO"
            ],
            "metadata": {
                "azdata_cell_guid": "919ac7aa-1df4-41df-886a-f2c852400bd3"
            },
            "outputs": [],
            "execution_count": null
        },
        {
            "cell_type": "markdown",
            "source": [
                "      Table Name:  DimSalesPerson\r\n",
                "      Description: Reference table to identify the salesperson for the specific sales transaction."
            ],
            "metadata": {
                "azdata_cell_guid": "df871169-eb7a-404d-b0fd-97a6da5712de"
            }
        },
        {
            "cell_type": "code",
            "source": [
                " CREATE TABLE dbo.DimSalesPerson\r\n",
                " (SalesPersonKey Int IDENTITY NOT NULL PRIMARY KEY NONCLUSTERED,\r\n",
                " FirstName nvarchar(30) NOT NULL,\r\n",
                " LastName nvarchar(30) NOT NULL)\r\n",
                " GO"
            ],
            "metadata": {
                "azdata_cell_guid": "a57e3530-8b10-4c4d-9313-7cb8e9e01a58",
                "tags": []
            },
            "outputs": [],
            "execution_count": null
        },
        {
            "cell_type": "markdown",
            "source": [
                "      Table Name:  FactSalesQuota\r\n",
                "      Description: This table consist of all  the sales transaction information in the year quarter.\r\n",
                "      Comment: Employee, Date, has been referenced in this table"
            ],
            "metadata": {
                "azdata_cell_guid": "5bbff001-30a3-4ecf-8f04-0753c735d540"
            }
        },
        {
            "cell_type": "code",
            "source": [
                " CREATE TABLE dbo.FactSalesQuota\r\n",
                " (SalesQuotaKey Int IDENTITY NOT NULL PRIMARY KEY NONCLUSTERED,\r\n",
                "  EmployeeKey Int NOT NULL REFERENCES DimEmployee(EmployeeKey),\r\n",
                "  DateKey Int NOT NULL REFERENCES DimDate(DateKey),\r\n",
                "  CalendarYear DateTime NOT NULL,\r\n",
                "  CalendarQuarter DateTime NOT NULL,\r\n",
                "  SalesAmountQuarter MONEY NULL)\r\n",
                "  GO"
            ],
            "metadata": {
                "azdata_cell_guid": "4a259ec6-480b-4c6d-80b0-d9f69acb5e25",
                "tags": []
            },
            "outputs": [],
            "execution_count": null
        },
        {
            "cell_type": "markdown",
            "source": [
                "      Table Name:  FactOrder\r\n",
                "      Description: this table captures all the product ordered information such as the price and name of the product, the customer who ordered the product and the SalesPerson who processed the order transaction.\r\n",
                "      This table would be used in order to identify all the product that has been ordered by the customers.\r\n",
                "      Comment: The table referenced in this Fact Table are the Customer, City and SalesPerson"
            ],
            "metadata": {
                "azdata_cell_guid": "f78ed42e-dd75-4422-b491-0ece1f06cd01"
            }
        },
        {
            "cell_type": "code",
            "source": [
                " CREATE TABLE dbo.FactOrder\r\n",
                "(OrderKey Int IDENTITY NOT NULL PRIMARY KEY NONCLUSTERED,\r\n",
                " CityKey Int NOT NULL REFERENCES DimCity(CityKey),\r\n",
                " CustomerKey Int NOT NULL REFERENCES DimCustomer(CustomerKey),\r\n",
                " SalesPersonKey Int NOT NULL REFERENCES DimSalesPerson(SalesPersonKey),\r\n",
                " [Description] nvarchar(50) NOT NULL,\r\n",
                " Quantity Int NOT NULL,\r\n",
                " UnitPrice Money NOT NULL,\r\n",
                " VAT Money NOT NULL,\r\n",
                " TotalExclVAT Money NOT NULL,\r\n",
                " TotalInclVAT Money NOT NULL,\r\n",
                " OrderDate DATETIME NOT NULL,\r\n",
                " DateKey DATETIME NOT NULL)\r\n",
                " GO"
            ],
            "metadata": {
                "azdata_cell_guid": "db7651ae-ce73-4aa0-8d63-19fd89db38f3"
            },
            "outputs": [],
            "execution_count": null
        },
        {
            "cell_type": "markdown",
            "source": [
                "      Table Name:  FactSales\r\n",
                "      Description: All the unit price and discount price of the product and the cost of purchase of the product.\r\n",
                "      Comment: The table referenced in this Fact Table are the Customer, Product and City and SalesPerson"
            ],
            "metadata": {
                "azdata_cell_guid": "91015e35-b72d-4889-abb8-a49982c9d762"
            }
        },
        {
            "cell_type": "code",
            "source": [
                "CREATE TABLE dbo.FactSales\r\n",
                " (SalesKey Int IDENTITY NOT NULL PRIMARY KEY NONCLUSTERED,\r\n",
                " SalesPersonKey Int NOT NULL REFERENCES DimSalesPerson(SalesPersonKey),\r\n",
                " ProductKey Int NOT NULL REFERENCES DimProducts(ProductKey),\r\n",
                " CustomerKey Int NOT NULL REFERENCES DimCustomer(CustomerKey),\r\n",
                " CityKey Int NOT NULL REFERENCES DimCity(CityKey),\r\n",
                " SalesLocation nvarchar(30) NOT NULL,\r\n",
                " OrderQty Int NULL,\r\n",
                " UnitPrice Money Null, \r\n",
                " UnitPriceDiscountPct Money NULL,\r\n",
                " DiscountAmount Money NULL,\r\n",
                " ProductStandardCost Money NULL,\r\n",
                " TotProductCost Money NULL,\r\n",
                " SalesAmount Money NULL,\r\n",
                " OrderDate DATETIME NULL,\r\n",
                " DateKey DATETIME NULL)\r\n",
                " GO"
            ],
            "metadata": {
                "azdata_cell_guid": "ba6b4dd3-405d-4760-847c-b0024286612f"
            },
            "outputs": [],
            "execution_count": null
        }
    ]
}